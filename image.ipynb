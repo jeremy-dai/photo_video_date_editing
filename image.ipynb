{
 "cells": [
  {
   "cell_type": "code",
   "execution_count": 1,
   "metadata": {},
   "outputs": [],
   "source": [
    "from app.experimental.jeremy.tools import image as helper\n",
    "import os"
   ]
  },
  {
   "cell_type": "code",
   "execution_count": 2,
   "metadata": {},
   "outputs": [],
   "source": [
    "year=2024"
   ]
  },
  {
   "cell_type": "markdown",
   "metadata": {},
   "source": [
    "### step 1: move invalid files"
   ]
  },
  {
   "cell_type": "code",
   "execution_count": null,
   "metadata": {},
   "outputs": [],
   "source": [
    "input_folder = f\"{year}\"\n",
    "helper.move_invalid_files(input_folder)\n",
    "print(\"************ Step 0: move invalid files complete ************\")\n",
    "print(\"Now invalid files are in the folder: invalid_files\")"
   ]
  },
  {
   "cell_type": "markdown",
   "metadata": {},
   "source": [
    "### step 2: IMAGE: convert image format"
   ]
  },
  {
   "cell_type": "code",
   "execution_count": null,
   "metadata": {},
   "outputs": [],
   "source": [
    "input_folder = f\"invalid_files\"\n",
    "output_folder = f\"invalid_files_modified\"\n",
    "helper.batch_convert_heic_to_jpg(input_folder, output_folder)\n",
    "helper.batch_convert_png_to_jpg(input_folder, output_folder)\n",
    "print(\"************ Step 2: convert image format complete ************\")\n",
    "print(\"Now invalid files are in the folder: invalid_files_modified\")"
   ]
  },
  {
   "cell_type": "markdown",
   "metadata": {},
   "source": [
    "### Step 3: IMAGE: 更新files\n",
    "- 把 invalid_files_modified 文件夹的文件，移动到 {year} 的文件夹下\n",
    "- 删除 invalid_files 文件夹的heic和png文件\n",
    "\n",
    "### Step 4: VIDEO: 制作年度gif\n",
    "- 把 invalid_files 文件夹的gif, 用剪映制作成年度gif。\n",
    "- 删除原文件，将年度gif移动到 {year} 文件夹下\n",
    "\n",
    "### Step 5: 原信息判断时间"
   ]
  },
  {
   "cell_type": "code",
   "execution_count": null,
   "metadata": {},
   "outputs": [],
   "source": [
    "root_folder = f\"{year}\"  \n",
    "\n",
    "helper.filter_images_by_year(root_folder, year)\n",
    "helper.filter_videos_by_year(root_folder, year)\n",
    "print(\"************ Step 8: filter images and videos complete ************\")\n",
    "print(\"Now you have 2 folders:\")\n",
    "print(f\"1. {root_folder}/year_{year}: contains all the files from {year}\")\n",
    "print(f\"2. {root_folder}/other_years: contains all the files from other years\")"
   ]
  },
  {
   "cell_type": "markdown",
   "metadata": {},
   "source": [
    "### step 6: 上传已经有信息的文件\n",
    "- 删除 year_{year} 文件夹\n",
    "\n",
    "### Step 7: VIDEO: 找出长度小于4s的视频\n",
    "- invalid_files 文件夹\n",
    "- other_years 文件夹"
   ]
  },
  {
   "cell_type": "code",
   "execution_count": null,
   "metadata": {},
   "outputs": [],
   "source": [
    "source_folder = \"invalid_files\"\n",
    "destination_folder = \"short_videos\"\n",
    "helper.move_short_videos(source_folder, destination_folder)\n",
    "\n",
    "source_folder = \"other_years\"\n",
    "helper.move_short_videos(source_folder, destination_folder)\n",
    "\n",
    "print(\"************ Step 5: move short videos complete ************\")\n",
    "print(\"Now short videos are in the folder: short_videos\")"
   ]
  },
  {
   "cell_type": "markdown",
   "metadata": {},
   "source": [
    "### Step 8: VIDEO: 制作年度动图\n",
    "- __**删除不需要的动图**__\n",
    "- 用剪映制作成年度动图\n",
    "- 将年度动图移动到 {invalid_files} 文件夹下\n",
    "- 删除原 short_videos 文件夹\n",
    "\n"
   ]
  },
  {
   "cell_type": "markdown",
   "metadata": {},
   "source": [
    "\n",
    "### Step 9: VIDEO: 压缩视频\n",
    "- 将other_years 文件夹下的视频，加入invalid_files 文件夹\n",
    "- 用Focus Video 压缩文件夹下的视频\n",
    "- 删除原文件，将压缩后的视频移动到 {other_years} 文件夹下\n",
    "\n",
    "\n",
    "### step 10: 利用文件名中的时间信息"
   ]
  },
  {
   "cell_type": "code",
   "execution_count": null,
   "metadata": {},
   "outputs": [],
   "source": [
    "input_folder = \"other_years\"\n",
    "output_folder = \"raw\"\n",
    "helper.move_files_by_name(input_folder, output_folder)\n",
    "print(\"************ Step 11: move files by name complete ************\")\n",
    "print(\"Now all files are in the folder: raw\")"
   ]
  },
  {
   "cell_type": "markdown",
   "metadata": {},
   "source": [
    "### step 11: 更新相册的时间 分类视频\n",
    "- mmdd_theme as folder name\n",
    "### step 12: 修改时间"
   ]
  },
  {
   "cell_type": "code",
   "execution_count": null,
   "metadata": {},
   "outputs": [],
   "source": [
    "# set up\n",
    "root_folder = \"raw\"  \n",
    "output_folder_photo = \"raw_modified\"\n",
    "output_folder_video = \"raw_modified\"\n",
    "\n",
    "# loop through all subfolders\n",
    "for folder in os.listdir(root_folder):\n",
    "    if folder != '.DS_Store':   \n",
    "        input_folder = os.path.join(root_folder, folder)\n",
    "        month = folder[:2]\n",
    "        day = folder[2:4]\n",
    "        name_addition = f\"{folder}_\"\n",
    "        new_date = f\"{year}:{month}:{day} 11:00:00\"\n",
    "        print(f\"************ {folder} ************\")\n",
    "        helper.modify_image_dates(input_folder, new_date, output_folder_photo, name_addition)\n",
    "        helper.modify_video_dates(input_folder, new_date, output_folder_video, name_addition)\n",
    "print(\"************ Step 11: modify dates complete ************\")\n",
    "print(\"Now all files are in the folder: raw_modified\")"
   ]
  },
  {
   "cell_type": "markdown",
   "metadata": {},
   "source": [
    "### step 13: 上传文件\n",
    "- raw_modified 文件夹\n",
    "### step 14: clean up\n",
    "- 清空 raw 文件夹\n",
    "- 清空 raw_modified 文件夹\n",
    "\n",
    "\n",
    "# single\n"
   ]
  },
  {
   "cell_type": "markdown",
   "metadata": {},
   "source": [
    "input_folder\n",
    "new_date_str\n",
    "output_folder=None\n",
    "name_addition=\"\"\n"
   ]
  },
  {
   "cell_type": "code",
   "execution_count": null,
   "metadata": {},
   "outputs": [],
   "source": [
    "input_folder = \"raw\"  \n",
    "output_folder = \"raw_modified\"\n",
    "new_date = \"2013:04:19 16:00:00\"\n",
    "helper.modify_image_dates(input_folder, new_date, output_folder, \"\")\n",
    "\n"
   ]
  },
  {
   "cell_type": "markdown",
   "metadata": {},
   "source": [
    "# by yyyy-mm-dd"
   ]
  },
  {
   "cell_type": "code",
   "execution_count": null,
   "metadata": {},
   "outputs": [],
   "source": [
    "# set up\n",
    "root_folder = \"raw\"  \n",
    "output_folder_photo = \"raw_modified\"\n",
    "output_folder_video = \"raw_modified\"\n",
    "\n",
    "# loop through all subfolders\n",
    "for folder in os.listdir(root_folder):\n",
    "    if folder != '.DS_Store':   \n",
    "        input_folder = os.path.join(root_folder, folder)\n",
    "        year = folder[:4]\n",
    "        month = folder[4:6]\n",
    "        day = folder[6:8]\n",
    "        name_addition = f\"{folder}_\"\n",
    "        new_date = f\"{year}:{month}:{day} 11:00:00\"\n",
    "        print(f\"************ {folder} ************\")\n",
    "        helper.modify_image_dates(input_folder, new_date, output_folder_photo, name_addition)\n",
    "        helper.modify_video_dates(input_folder, new_date, output_folder_video, name_addition)\n",
    "print(\"************ Step 11: modify dates complete ************\")\n",
    "print(\"Now all files are in the folder: raw_modified\")"
   ]
  }
 ],
 "metadata": {
  "kernelspec": {
   "display_name": "Python 3",
   "language": "python",
   "name": "python3"
  },
  "language_info": {
   "codemirror_mode": {
    "name": "ipython",
    "version": 3
   },
   "file_extension": ".py",
   "mimetype": "text/x-python",
   "name": "python",
   "nbconvert_exporter": "python",
   "pygments_lexer": "ipython3",
   "version": "3.12.7"
  }
 },
 "nbformat": 4,
 "nbformat_minor": 2
}
